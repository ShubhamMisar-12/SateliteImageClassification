{
 "cells": [
  {
   "cell_type": "code",
   "execution_count": 1,
   "id": "ef38746d",
   "metadata": {
    "_cell_guid": "b1076dfc-b9ad-4769-8c92-a6c4dae69d19",
    "_uuid": "8f2839f25d086af736a60e9eeb907d3b93b6e0e5",
    "execution": {
     "iopub.execute_input": "2023-06-11T20:35:34.048999Z",
     "iopub.status.busy": "2023-06-11T20:35:34.048473Z",
     "iopub.status.idle": "2023-06-11T20:35:38.007464Z",
     "shell.execute_reply": "2023-06-11T20:35:38.006025Z"
    },
    "papermill": {
     "duration": 3.969089,
     "end_time": "2023-06-11T20:35:38.009626",
     "exception": false,
     "start_time": "2023-06-11T20:35:34.040537",
     "status": "completed"
    },
    "tags": []
   },
   "outputs": [
    {
     "name": "stdout",
     "output_type": "stream",
     "text": [
      "/kaggle/input\n",
      "/kaggle/input/satellite-image-classification\n",
      "/kaggle/input/satellite-image-classification/data\n",
      "/kaggle/input/satellite-image-classification/data/cloudy\n",
      "/kaggle/input/satellite-image-classification/data/desert\n",
      "/kaggle/input/satellite-image-classification/data/green_area\n",
      "/kaggle/input/satellite-image-classification/data/water\n"
     ]
    }
   ],
   "source": [
    "# This Python 3 environment comes with many helpful analytics libraries installed\n",
    "# It is defined by the kaggle/python Docker image: https://github.com/kaggle/docker-python\n",
    "# For example, here's several helpful packages to load\n",
    "\n",
    "import numpy as np # linear algebra\n",
    "import pandas as pd # data processing, CSV file I/O (e.g. pd.read_csv)\n",
    "\n",
    "# Input data files are available in the read-only \"../input/\" directory\n",
    "# For example, running this (by clicking run or pressing Shift+Enter) will list all files under the input directory\n",
    "\n",
    "import os\n",
    "for dirname, _, filenames in os.walk('/kaggle/input'):\n",
    "    print(dirname)\n",
    "\n",
    "# You can write up to 20GB to the current directory (/kaggle/working/) that gets preserved as output when you create a version using \"Save & Run All\" \n",
    "# You can also write temporary files to /kaggle/temp/, but they won't be saved outside of the current session"
   ]
  },
  {
   "cell_type": "code",
   "execution_count": 2,
   "id": "ddf6d34a",
   "metadata": {
    "execution": {
     "iopub.execute_input": "2023-06-11T20:35:38.020425Z",
     "iopub.status.busy": "2023-06-11T20:35:38.019593Z",
     "iopub.status.idle": "2023-06-11T20:35:39.094006Z",
     "shell.execute_reply": "2023-06-11T20:35:39.092836Z"
    },
    "papermill": {
     "duration": 1.082105,
     "end_time": "2023-06-11T20:35:39.096568",
     "exception": false,
     "start_time": "2023-06-11T20:35:38.014463",
     "status": "completed"
    },
    "tags": []
   },
   "outputs": [
    {
     "name": "stdout",
     "output_type": "stream",
     "text": [
      "Sun Jun 11 20:35:38 2023       \r\n",
      "+-----------------------------------------------------------------------------+\r\n",
      "| NVIDIA-SMI 470.161.03   Driver Version: 470.161.03   CUDA Version: 11.4     |\r\n",
      "|-------------------------------+----------------------+----------------------+\r\n",
      "| GPU  Name        Persistence-M| Bus-Id        Disp.A | Volatile Uncorr. ECC |\r\n",
      "| Fan  Temp  Perf  Pwr:Usage/Cap|         Memory-Usage | GPU-Util  Compute M. |\r\n",
      "|                               |                      |               MIG M. |\r\n",
      "|===============================+======================+======================|\r\n",
      "|   0  Tesla T4            Off  | 00000000:00:04.0 Off |                    0 |\r\n",
      "| N/A   47C    P8     9W /  70W |      0MiB / 15109MiB |      0%      Default |\r\n",
      "|                               |                      |                  N/A |\r\n",
      "+-------------------------------+----------------------+----------------------+\r\n",
      "|   1  Tesla T4            Off  | 00000000:00:05.0 Off |                    0 |\r\n",
      "| N/A   41C    P8     9W /  70W |      0MiB / 15109MiB |      0%      Default |\r\n",
      "|                               |                      |                  N/A |\r\n",
      "+-------------------------------+----------------------+----------------------+\r\n",
      "                                                                               \r\n",
      "+-----------------------------------------------------------------------------+\r\n",
      "| Processes:                                                                  |\r\n",
      "|  GPU   GI   CI        PID   Type   Process name                  GPU Memory |\r\n",
      "|        ID   ID                                                   Usage      |\r\n",
      "|=============================================================================|\r\n",
      "|  No running processes found                                                 |\r\n",
      "+-----------------------------------------------------------------------------+\r\n"
     ]
    }
   ],
   "source": [
    "!nvidia-smi"
   ]
  },
  {
   "cell_type": "markdown",
   "id": "e50eabd5",
   "metadata": {
    "papermill": {
     "duration": 0.004691,
     "end_time": "2023-06-11T20:35:39.105970",
     "exception": false,
     "start_time": "2023-06-11T20:35:39.101279",
     "status": "completed"
    },
    "tags": []
   },
   "source": [
    "#### Importing Necessary Modules"
   ]
  },
  {
   "cell_type": "code",
   "execution_count": 3,
   "id": "5be0fe72",
   "metadata": {
    "execution": {
     "iopub.execute_input": "2023-06-11T20:35:39.118400Z",
     "iopub.status.busy": "2023-06-11T20:35:39.117425Z",
     "iopub.status.idle": "2023-06-11T20:35:43.585104Z",
     "shell.execute_reply": "2023-06-11T20:35:43.584142Z"
    },
    "papermill": {
     "duration": 4.476664,
     "end_time": "2023-06-11T20:35:43.587567",
     "exception": false,
     "start_time": "2023-06-11T20:35:39.110903",
     "status": "completed"
    },
    "tags": []
   },
   "outputs": [],
   "source": [
    "import torch\n",
    "import torch.nn as nn\n",
    "import torch.optim as optim\n",
    "import torchvision\n",
    "import torchvision.transforms as transforms\n",
    "from torchvision.datasets import ImageFolder"
   ]
  },
  {
   "cell_type": "markdown",
   "id": "3a5fc237",
   "metadata": {
    "papermill": {
     "duration": 0.004133,
     "end_time": "2023-06-11T20:35:43.596274",
     "exception": false,
     "start_time": "2023-06-11T20:35:43.592141",
     "status": "completed"
    },
    "tags": []
   },
   "source": [
    "### Reading Files from Imagefolder "
   ]
  },
  {
   "cell_type": "code",
   "execution_count": 4,
   "id": "b6558d11",
   "metadata": {
    "execution": {
     "iopub.execute_input": "2023-06-11T20:35:43.606643Z",
     "iopub.status.busy": "2023-06-11T20:35:43.606150Z",
     "iopub.status.idle": "2023-06-11T20:35:43.613217Z",
     "shell.execute_reply": "2023-06-11T20:35:43.612338Z"
    },
    "papermill": {
     "duration": 0.014704,
     "end_time": "2023-06-11T20:35:43.615270",
     "exception": false,
     "start_time": "2023-06-11T20:35:43.600566",
     "status": "completed"
    },
    "tags": []
   },
   "outputs": [],
   "source": [
    "transform = transforms.Compose([transforms.Resize(255),\n",
    "                                transforms.CenterCrop(224),\n",
    "                                transforms.RandomHorizontalFlip(),\n",
    "                                transforms.ColorJitter(brightness=0.1, contrast=0.1, saturation=0.1, hue=0.1), \n",
    "                                transforms.RandomRotation(degrees=10), \n",
    "                                transforms.ToTensor()])"
   ]
  },
  {
   "cell_type": "code",
   "execution_count": 5,
   "id": "1e21c6f8",
   "metadata": {
    "execution": {
     "iopub.execute_input": "2023-06-11T20:35:43.625311Z",
     "iopub.status.busy": "2023-06-11T20:35:43.624550Z",
     "iopub.status.idle": "2023-06-11T20:35:44.495480Z",
     "shell.execute_reply": "2023-06-11T20:35:44.494537Z"
    },
    "papermill": {
     "duration": 0.878686,
     "end_time": "2023-06-11T20:35:44.498199",
     "exception": false,
     "start_time": "2023-06-11T20:35:43.619513",
     "status": "completed"
    },
    "tags": []
   },
   "outputs": [],
   "source": [
    "dataset = ImageFolder('/kaggle/input/satellite-image-classification/data/', transform=transform)"
   ]
  },
  {
   "cell_type": "code",
   "execution_count": 6,
   "id": "72b3b2ca",
   "metadata": {
    "execution": {
     "iopub.execute_input": "2023-06-11T20:35:44.508913Z",
     "iopub.status.busy": "2023-06-11T20:35:44.508577Z",
     "iopub.status.idle": "2023-06-11T20:35:44.629597Z",
     "shell.execute_reply": "2023-06-11T20:35:44.628473Z"
    },
    "papermill": {
     "duration": 0.129079,
     "end_time": "2023-06-11T20:35:44.632112",
     "exception": false,
     "start_time": "2023-06-11T20:35:44.503033",
     "status": "completed"
    },
    "tags": []
   },
   "outputs": [
    {
     "data": {
      "text/plain": [
       "torch.Size([3, 224, 224])"
      ]
     },
     "execution_count": 6,
     "metadata": {},
     "output_type": "execute_result"
    }
   ],
   "source": [
    "dataset[0][0].shape"
   ]
  },
  {
   "cell_type": "code",
   "execution_count": 7,
   "id": "b8496970",
   "metadata": {
    "execution": {
     "iopub.execute_input": "2023-06-11T20:35:44.642220Z",
     "iopub.status.busy": "2023-06-11T20:35:44.641938Z",
     "iopub.status.idle": "2023-06-11T20:35:44.647932Z",
     "shell.execute_reply": "2023-06-11T20:35:44.646916Z"
    },
    "papermill": {
     "duration": 0.014617,
     "end_time": "2023-06-11T20:35:44.651080",
     "exception": false,
     "start_time": "2023-06-11T20:35:44.636463",
     "status": "completed"
    },
    "tags": []
   },
   "outputs": [
    {
     "data": {
      "text/plain": [
       "['cloudy', 'desert', 'green_area', 'water']"
      ]
     },
     "execution_count": 7,
     "metadata": {},
     "output_type": "execute_result"
    }
   ],
   "source": [
    "dataset.classes"
   ]
  },
  {
   "cell_type": "code",
   "execution_count": 8,
   "id": "0fde7ab1",
   "metadata": {
    "execution": {
     "iopub.execute_input": "2023-06-11T20:35:44.661486Z",
     "iopub.status.busy": "2023-06-11T20:35:44.660857Z",
     "iopub.status.idle": "2023-06-11T20:35:44.666268Z",
     "shell.execute_reply": "2023-06-11T20:35:44.665427Z"
    },
    "papermill": {
     "duration": 0.012679,
     "end_time": "2023-06-11T20:35:44.668118",
     "exception": false,
     "start_time": "2023-06-11T20:35:44.655439",
     "status": "completed"
    },
    "tags": []
   },
   "outputs": [
    {
     "data": {
      "text/plain": [
       "5631"
      ]
     },
     "execution_count": 8,
     "metadata": {},
     "output_type": "execute_result"
    }
   ],
   "source": [
    "len(dataset)"
   ]
  },
  {
   "cell_type": "code",
   "execution_count": 9,
   "id": "3d53c4b1",
   "metadata": {
    "execution": {
     "iopub.execute_input": "2023-06-11T20:35:44.678705Z",
     "iopub.status.busy": "2023-06-11T20:35:44.677979Z",
     "iopub.status.idle": "2023-06-11T20:35:44.682744Z",
     "shell.execute_reply": "2023-06-11T20:35:44.681818Z"
    },
    "papermill": {
     "duration": 0.012022,
     "end_time": "2023-06-11T20:35:44.684698",
     "exception": false,
     "start_time": "2023-06-11T20:35:44.672676",
     "status": "completed"
    },
    "tags": []
   },
   "outputs": [],
   "source": [
    "from collections import Counter\n",
    "value_counts = dict(Counter(dataset.targets))"
   ]
  },
  {
   "cell_type": "code",
   "execution_count": 10,
   "id": "1005f3dc",
   "metadata": {
    "execution": {
     "iopub.execute_input": "2023-06-11T20:35:44.695331Z",
     "iopub.status.busy": "2023-06-11T20:35:44.694577Z",
     "iopub.status.idle": "2023-06-11T20:35:44.700197Z",
     "shell.execute_reply": "2023-06-11T20:35:44.698995Z"
    },
    "papermill": {
     "duration": 0.012902,
     "end_time": "2023-06-11T20:35:44.702161",
     "exception": false,
     "start_time": "2023-06-11T20:35:44.689259",
     "status": "completed"
    },
    "tags": []
   },
   "outputs": [
    {
     "name": "stdout",
     "output_type": "stream",
     "text": [
      "{'cloudy': 1500, 'desert': 1131, 'green_area': 1500, 'water': 1500}\n"
     ]
    }
   ],
   "source": [
    "value_counts = dict(zip(dataset.classes, value_counts.values()))\n",
    "\n",
    "print(value_counts)"
   ]
  },
  {
   "cell_type": "code",
   "execution_count": null,
   "id": "406cf7a9",
   "metadata": {
    "papermill": {
     "duration": 0.004654,
     "end_time": "2023-06-11T20:35:44.711489",
     "exception": false,
     "start_time": "2023-06-11T20:35:44.706835",
     "status": "completed"
    },
    "tags": []
   },
   "outputs": [],
   "source": []
  }
 ],
 "metadata": {
  "kernelspec": {
   "display_name": "Python 3",
   "language": "python",
   "name": "python3"
  },
  "language_info": {
   "codemirror_mode": {
    "name": "ipython",
    "version": 3
   },
   "file_extension": ".py",
   "mimetype": "text/x-python",
   "name": "python",
   "nbconvert_exporter": "python",
   "pygments_lexer": "ipython3",
   "version": "3.10.10"
  },
  "papermill": {
   "default_parameters": {},
   "duration": 24.953974,
   "end_time": "2023-06-11T20:35:47.165234",
   "environment_variables": {},
   "exception": null,
   "input_path": "__notebook__.ipynb",
   "output_path": "__notebook__.ipynb",
   "parameters": {},
   "start_time": "2023-06-11T20:35:22.211260",
   "version": "2.4.0"
  }
 },
 "nbformat": 4,
 "nbformat_minor": 5
}
