{
 "cells": [
  {
   "cell_type": "code",
   "execution_count": 1,
   "id": "e0edb74f",
   "metadata": {
    "_cell_guid": "b1076dfc-b9ad-4769-8c92-a6c4dae69d19",
    "_uuid": "8f2839f25d086af736a60e9eeb907d3b93b6e0e5",
    "execution": {
     "iopub.execute_input": "2023-06-12T03:54:55.708210Z",
     "iopub.status.busy": "2023-06-12T03:54:55.707328Z",
     "iopub.status.idle": "2023-06-12T03:54:57.203468Z",
     "shell.execute_reply": "2023-06-12T03:54:57.202549Z"
    },
    "papermill": {
     "duration": 1.50429,
     "end_time": "2023-06-12T03:54:57.205823",
     "exception": false,
     "start_time": "2023-06-12T03:54:55.701533",
     "status": "completed"
    },
    "tags": []
   },
   "outputs": [
    {
     "name": "stdout",
     "output_type": "stream",
     "text": [
      "/kaggle/input\n",
      "/kaggle/input/satellite-image-classification\n",
      "/kaggle/input/satellite-image-classification/data\n",
      "/kaggle/input/satellite-image-classification/data/cloudy\n",
      "/kaggle/input/satellite-image-classification/data/desert\n",
      "/kaggle/input/satellite-image-classification/data/green_area\n",
      "/kaggle/input/satellite-image-classification/data/water\n"
     ]
    }
   ],
   "source": [
    "# This Python 3 environment comes with many helpful analytics libraries installed\n",
    "# It is defined by the kaggle/python Docker image: https://github.com/kaggle/docker-python\n",
    "# For example, here's several helpful packages to load\n",
    "\n",
    "import numpy as np # linear algebra\n",
    "import pandas as pd # data processing, CSV file I/O (e.g. pd.read_csv)\n",
    "\n",
    "# Input data files are available in the read-only \"../input/\" directory\n",
    "# For example, running this (by clicking run or pressing Shift+Enter) will list all files under the input directory\n",
    "\n",
    "import os\n",
    "for dirname, _, filenames in os.walk('/kaggle/input'):\n",
    "    print(dirname)\n",
    "\n",
    "# You can write up to 20GB to the current directory (/kaggle/working/) that gets preserved as output when you create a version using \"Save & Run All\" \n",
    "# You can also write temporary files to /kaggle/temp/, but they won't be saved outside of the current session"
   ]
  },
  {
   "cell_type": "code",
   "execution_count": 2,
   "id": "4e613e4f",
   "metadata": {
    "execution": {
     "iopub.execute_input": "2023-06-12T03:54:57.216133Z",
     "iopub.status.busy": "2023-06-12T03:54:57.215815Z",
     "iopub.status.idle": "2023-06-12T03:54:58.286352Z",
     "shell.execute_reply": "2023-06-12T03:54:58.285144Z"
    },
    "papermill": {
     "duration": 1.078605,
     "end_time": "2023-06-12T03:54:58.288964",
     "exception": false,
     "start_time": "2023-06-12T03:54:57.210359",
     "status": "completed"
    },
    "tags": []
   },
   "outputs": [
    {
     "name": "stdout",
     "output_type": "stream",
     "text": [
      "Mon Jun 12 03:54:58 2023       \r\n",
      "+-----------------------------------------------------------------------------+\r\n",
      "| NVIDIA-SMI 470.161.03   Driver Version: 470.161.03   CUDA Version: 11.4     |\r\n",
      "|-------------------------------+----------------------+----------------------+\r\n",
      "| GPU  Name        Persistence-M| Bus-Id        Disp.A | Volatile Uncorr. ECC |\r\n",
      "| Fan  Temp  Perf  Pwr:Usage/Cap|         Memory-Usage | GPU-Util  Compute M. |\r\n",
      "|                               |                      |               MIG M. |\r\n",
      "|===============================+======================+======================|\r\n",
      "|   0  Tesla T4            Off  | 00000000:00:04.0 Off |                    0 |\r\n",
      "| N/A   43C    P8     9W /  70W |      0MiB / 15109MiB |      0%      Default |\r\n",
      "|                               |                      |                  N/A |\r\n",
      "+-------------------------------+----------------------+----------------------+\r\n",
      "|   1  Tesla T4            Off  | 00000000:00:05.0 Off |                    0 |\r\n",
      "| N/A   43C    P8     9W /  70W |      0MiB / 15109MiB |      0%      Default |\r\n",
      "|                               |                      |                  N/A |\r\n",
      "+-------------------------------+----------------------+----------------------+\r\n",
      "                                                                               \r\n",
      "+-----------------------------------------------------------------------------+\r\n",
      "| Processes:                                                                  |\r\n",
      "|  GPU   GI   CI        PID   Type   Process name                  GPU Memory |\r\n",
      "|        ID   ID                                                   Usage      |\r\n",
      "|=============================================================================|\r\n",
      "|  No running processes found                                                 |\r\n",
      "+-----------------------------------------------------------------------------+\r\n"
     ]
    }
   ],
   "source": [
    "!nvidia-smi"
   ]
  },
  {
   "cell_type": "markdown",
   "id": "026a8832",
   "metadata": {
    "papermill": {
     "duration": 0.004108,
     "end_time": "2023-06-12T03:54:58.297952",
     "exception": false,
     "start_time": "2023-06-12T03:54:58.293844",
     "status": "completed"
    },
    "tags": []
   },
   "source": [
    "#### Importing Necessary Modules"
   ]
  },
  {
   "cell_type": "code",
   "execution_count": 3,
   "id": "ea390845",
   "metadata": {
    "execution": {
     "iopub.execute_input": "2023-06-12T03:54:58.308009Z",
     "iopub.status.busy": "2023-06-12T03:54:58.307681Z",
     "iopub.status.idle": "2023-06-12T03:55:02.263543Z",
     "shell.execute_reply": "2023-06-12T03:55:02.262613Z"
    },
    "papermill": {
     "duration": 3.963987,
     "end_time": "2023-06-12T03:55:02.266260",
     "exception": false,
     "start_time": "2023-06-12T03:54:58.302273",
     "status": "completed"
    },
    "tags": []
   },
   "outputs": [],
   "source": [
    "import torch\n",
    "import torch.nn as nn\n",
    "import torch.optim as optim\n",
    "import torchvision\n",
    "import torchvision.transforms as transforms\n",
    "from torchvision.datasets import ImageFolder"
   ]
  },
  {
   "cell_type": "markdown",
   "id": "b730d658",
   "metadata": {
    "papermill": {
     "duration": 0.00407,
     "end_time": "2023-06-12T03:55:02.274739",
     "exception": false,
     "start_time": "2023-06-12T03:55:02.270669",
     "status": "completed"
    },
    "tags": []
   },
   "source": [
    "### Reading Files from Imagefolder "
   ]
  },
  {
   "cell_type": "code",
   "execution_count": 4,
   "id": "6487a953",
   "metadata": {
    "execution": {
     "iopub.execute_input": "2023-06-12T03:55:02.284593Z",
     "iopub.status.busy": "2023-06-12T03:55:02.284107Z",
     "iopub.status.idle": "2023-06-12T03:55:02.290868Z",
     "shell.execute_reply": "2023-06-12T03:55:02.290064Z"
    },
    "papermill": {
     "duration": 0.014171,
     "end_time": "2023-06-12T03:55:02.293056",
     "exception": false,
     "start_time": "2023-06-12T03:55:02.278885",
     "status": "completed"
    },
    "tags": []
   },
   "outputs": [],
   "source": [
    "transform = transforms.Compose([transforms.Resize(255),\n",
    "                                transforms.CenterCrop(224),\n",
    "                                transforms.RandomHorizontalFlip(),\n",
    "                                transforms.ColorJitter(brightness=0.1, contrast=0.1, saturation=0.1, hue=0.1), \n",
    "                                transforms.RandomRotation(degrees=10), \n",
    "                                transforms.ToTensor()])"
   ]
  },
  {
   "cell_type": "code",
   "execution_count": 5,
   "id": "71ac1a4e",
   "metadata": {
    "execution": {
     "iopub.execute_input": "2023-06-12T03:55:02.302654Z",
     "iopub.status.busy": "2023-06-12T03:55:02.302392Z",
     "iopub.status.idle": "2023-06-12T03:55:03.209942Z",
     "shell.execute_reply": "2023-06-12T03:55:03.208962Z"
    },
    "papermill": {
     "duration": 0.915298,
     "end_time": "2023-06-12T03:55:03.212684",
     "exception": false,
     "start_time": "2023-06-12T03:55:02.297386",
     "status": "completed"
    },
    "tags": []
   },
   "outputs": [],
   "source": [
    "dataset = ImageFolder('/kaggle/input/satellite-image-classification/data/', transform=transform)"
   ]
  },
  {
   "cell_type": "code",
   "execution_count": 6,
   "id": "ecc18977",
   "metadata": {
    "execution": {
     "iopub.execute_input": "2023-06-12T03:55:03.222793Z",
     "iopub.status.busy": "2023-06-12T03:55:03.222500Z",
     "iopub.status.idle": "2023-06-12T03:55:03.318589Z",
     "shell.execute_reply": "2023-06-12T03:55:03.317580Z"
    },
    "papermill": {
     "duration": 0.103721,
     "end_time": "2023-06-12T03:55:03.321018",
     "exception": false,
     "start_time": "2023-06-12T03:55:03.217297",
     "status": "completed"
    },
    "tags": []
   },
   "outputs": [
    {
     "data": {
      "text/plain": [
       "torch.Size([3, 224, 224])"
      ]
     },
     "execution_count": 6,
     "metadata": {},
     "output_type": "execute_result"
    }
   ],
   "source": [
    "dataset[0][0].shape"
   ]
  },
  {
   "cell_type": "code",
   "execution_count": 7,
   "id": "0bef49f7",
   "metadata": {
    "execution": {
     "iopub.execute_input": "2023-06-12T03:55:03.330917Z",
     "iopub.status.busy": "2023-06-12T03:55:03.330634Z",
     "iopub.status.idle": "2023-06-12T03:55:03.336745Z",
     "shell.execute_reply": "2023-06-12T03:55:03.335886Z"
    },
    "papermill": {
     "duration": 0.013455,
     "end_time": "2023-06-12T03:55:03.338814",
     "exception": false,
     "start_time": "2023-06-12T03:55:03.325359",
     "status": "completed"
    },
    "tags": []
   },
   "outputs": [
    {
     "data": {
      "text/plain": [
       "['cloudy', 'desert', 'green_area', 'water']"
      ]
     },
     "execution_count": 7,
     "metadata": {},
     "output_type": "execute_result"
    }
   ],
   "source": [
    "dataset.classes"
   ]
  },
  {
   "cell_type": "code",
   "execution_count": 8,
   "id": "71f2b390",
   "metadata": {
    "execution": {
     "iopub.execute_input": "2023-06-12T03:55:03.349038Z",
     "iopub.status.busy": "2023-06-12T03:55:03.348741Z",
     "iopub.status.idle": "2023-06-12T03:55:03.353955Z",
     "shell.execute_reply": "2023-06-12T03:55:03.353149Z"
    },
    "papermill": {
     "duration": 0.01252,
     "end_time": "2023-06-12T03:55:03.355847",
     "exception": false,
     "start_time": "2023-06-12T03:55:03.343327",
     "status": "completed"
    },
    "tags": []
   },
   "outputs": [
    {
     "data": {
      "text/plain": [
       "5631"
      ]
     },
     "execution_count": 8,
     "metadata": {},
     "output_type": "execute_result"
    }
   ],
   "source": [
    "len(dataset)"
   ]
  },
  {
   "cell_type": "code",
   "execution_count": 9,
   "id": "001ccf60",
   "metadata": {
    "execution": {
     "iopub.execute_input": "2023-06-12T03:55:03.366382Z",
     "iopub.status.busy": "2023-06-12T03:55:03.365609Z",
     "iopub.status.idle": "2023-06-12T03:55:03.370474Z",
     "shell.execute_reply": "2023-06-12T03:55:03.369544Z"
    },
    "papermill": {
     "duration": 0.012072,
     "end_time": "2023-06-12T03:55:03.372383",
     "exception": false,
     "start_time": "2023-06-12T03:55:03.360311",
     "status": "completed"
    },
    "tags": []
   },
   "outputs": [],
   "source": [
    "from collections import Counter\n",
    "value_counts = dict(Counter(dataset.targets))"
   ]
  },
  {
   "cell_type": "code",
   "execution_count": 10,
   "id": "6c535dc5",
   "metadata": {
    "execution": {
     "iopub.execute_input": "2023-06-12T03:55:03.383622Z",
     "iopub.status.busy": "2023-06-12T03:55:03.382891Z",
     "iopub.status.idle": "2023-06-12T03:55:03.388745Z",
     "shell.execute_reply": "2023-06-12T03:55:03.387524Z"
    },
    "papermill": {
     "duration": 0.013707,
     "end_time": "2023-06-12T03:55:03.390672",
     "exception": false,
     "start_time": "2023-06-12T03:55:03.376965",
     "status": "completed"
    },
    "tags": []
   },
   "outputs": [
    {
     "name": "stdout",
     "output_type": "stream",
     "text": [
      "{'cloudy': 1500, 'desert': 1131, 'green_area': 1500, 'water': 1500}\n"
     ]
    }
   ],
   "source": [
    "value_counts = dict(zip(dataset.classes, value_counts.values()))\n",
    "\n",
    "print(value_counts)"
   ]
  },
  {
   "cell_type": "code",
   "execution_count": null,
   "id": "681d3939",
   "metadata": {
    "papermill": {
     "duration": 0.004494,
     "end_time": "2023-06-12T03:55:03.399828",
     "exception": false,
     "start_time": "2023-06-12T03:55:03.395334",
     "status": "completed"
    },
    "tags": []
   },
   "outputs": [],
   "source": []
  }
 ],
 "metadata": {
  "kernelspec": {
   "display_name": "Python 3",
   "language": "python",
   "name": "python3"
  },
  "language_info": {
   "codemirror_mode": {
    "name": "ipython",
    "version": 3
   },
   "file_extension": ".py",
   "mimetype": "text/x-python",
   "name": "python",
   "nbconvert_exporter": "python",
   "pygments_lexer": "ipython3",
   "version": "3.10.10"
  },
  "papermill": {
   "default_parameters": {},
   "duration": 21.781237,
   "end_time": "2023-06-12T03:55:06.316381",
   "environment_variables": {},
   "exception": null,
   "input_path": "__notebook__.ipynb",
   "output_path": "__notebook__.ipynb",
   "parameters": {},
   "start_time": "2023-06-12T03:54:44.535144",
   "version": "2.4.0"
  }
 },
 "nbformat": 4,
 "nbformat_minor": 5
}
